{
 "cells": [
  {
   "cell_type": "markdown",
   "id": "MBIPlgwErdKj",
   "metadata": {
    "id": "MBIPlgwErdKj"
   },
   "source": [
    "# [Capstone Project] ML for Healthcare\n",
    "\n",
    "\n"
   ]
  },
  {
   "cell_type": "markdown",
   "id": "a96DB6WusScU",
   "metadata": {
    "id": "a96DB6WusScU"
   },
   "source": [
    "## Introduction\n",
    "\n",
    "You are supposed to program in Python to analyze a real-world dataset.\n",
    "\n",
    "### Rule to complete the assignment\n",
    "The basic rule is to write down your code after Each **TODO** line. There's **no limitation** on what libraries you use, how many lines code you write, how many cells you use in JupyterNotebook, etc.\n",
    "\n",
    "### Grading\n",
    "The grade will be given based on the performance of your model on a testing dataset. Note, this **testing dataset** is private to the instructor and TA. As a student, you don't have access to the test dataset. What you can do is to refine or polish your model based on the **training** and **validation** set. Submit the best model you have."
   ]
  },
  {
   "cell_type": "markdown",
   "id": "fd8c2c3b",
   "metadata": {
    "id": "fd8c2c3b"
   },
   "source": [
    "# Overview\n",
    "We will delve into the practical application of Artificial Intelligence within the field of healthcare.\n",
    "This lab will include:\n",
    "- Dataset introduction\n",
    "- Preprocessing\n",
    "- Problem definition\n",
    "- Feature engineering\n",
    "- Model selection\n",
    "- Training the model\n",
    "- Validation and hyperparameter tuning\n",
    "- Evaluation metrics\n"
   ]
  },
  {
   "cell_type": "markdown",
   "id": "a6e0d170",
   "metadata": {
    "id": "a6e0d170"
   },
   "source": [
    "## Dataset introduction\n",
    "For this lab, we will take one ECG dataset as example from the UCR Time Series Classification Archive.\n",
    "\n",
    "### **UCR Time Series Classification Archive**  \n",
    "Maintained by the University of California, Riverside (UCR), it is a valuable resource and repository for time series data and related classification problems. This archive is a comprehensive collection of various time series datasets designed specifically for benchmarking and evaluating time series classification algorithms and methods.\n",
    "FYI, the whole UCR raw data download link: https://www.cs.ucr.edu/%7Eeamonn/time_series_data_2018/\n",
    "\n",
    "But in this lab, you don't need it. **Please download the ECG5000 dataset on Canvas under the module of [Lab] Applied AI in Healthcare.**"
   ]
  },
  {
   "cell_type": "markdown",
   "id": "1749d9ac",
   "metadata": {
    "id": "1749d9ac"
   },
   "source": [
    "### **ECG5000**  \n",
    "> The original data set for *ECG5000* is a 20-hour long ECG downloaded from Physionet_ATM [1]. The database is BIDMC Congestive Heart Failure Database(chfdb) and the record is chf07. It was originally published by Goldberger et al. [2]. The data were pre-processed in two steps, first extracting each heartbeat and then making each heartbeat equal length using interpolation. These data were originally used by Chen et al. [3]. After that, 5000 heartbeats were randomly selected to make the current data set. Data were from a patient who has severe congestive heart failure. The class values were obtained by automated annotation.\n",
    "\n",
    ">[1] https://physionet.org/cgi-bin/atm/ATM  \n",
    ">[2] Goldberger, Ary L., et al. \"PhysioBank, PhysioToolkit, and PhysioNet: components of a new research resource for complex physiologic signals.\" Circulation 101.23 (2000): e215-e220.  \n",
    ">[3] Chen, Yanping, et al. \"A general framework for never-ending learning from time series streams.\" Data Mining and Knowledge Discovery 29.6 (2015): 1622-1664.  \n",
    ">[4] http://www.timeseriesclassification.com/description.php?Dataset=ECG5000"
   ]
  },
  {
   "cell_type": "markdown",
   "id": "c84952b8",
   "metadata": {
    "id": "c84952b8"
   },
   "source": [
    "|                 Class name                 | Abbreviation |\n",
    "|:------------------------------------------:|:------------:|\n",
    "|                   Normal                   |       N      |            \n",
    "|  R-on-T premature ventricular contraction  |       r      |             \n",
    "| Supraventricular premature or ectopic beat |       S      |           \n",
    "|      Premature ventricular contraction     |       V      |            \n",
    "|             Unclassifiable beat            |       Q      |      "
   ]
  },
  {
   "cell_type": "markdown",
   "id": "ina0xQnkr9Um",
   "metadata": {
    "id": "ina0xQnkr9Um"
   },
   "source": [
    "## TODO 1 Load the dataset (2 points)\n",
    "\n",
    "0. Download the ECG5000 dataset on Canvas under the module of [Lab] Applied AI in Healthcare. Put the folder at the same path as your Jupyter code (aka, this file). In other words, th path should be *ECG5000/ECG5000_train.pickle* when loading the data in this file.\n",
    "\n",
    "After my modification, the dataset contains 5000 samples, 500 in training, 1500 in validation, and 3000 for testing. **However, the testing set is unaviliable to you!** The testing set is used to evaluate your model and grading.\n",
    "\n",
    "Your task is to train your model on the training set and evaluate your model on the validation set.\n",
    "\n",
    "1. Load the *ECG5000_train.pickle* and *ECG5000_validation.pickle* file, save the file into variable *ECGdataset*.\n",
    "\n",
    "2. Print out the first Sample, only the first sample.\n",
    "\n",
    "3. What the value of the first feature of the 10-th sample? Print it out.\n",
    "\n",
    "**Note:** The time series length of ECG5000 is 140 which is the feature, the labels is the first column of the dataset array.\n",
    "\n",
    "\n",
    "\n",
    "\n",
    "\n",
    "\n",
    "\n",
    "\n",
    "\n"
   ]
  },
  {
   "cell_type": "code",
   "execution_count": 1,
   "id": "0a9a2b9a",
   "metadata": {
    "id": "0a9a2b9a"
   },
   "outputs": [],
   "source": [
    "import pickle\n",
    "import matplotlib.pyplot as plt\n",
    "from sklearn.preprocessing import StandardScaler\n",
    "import numpy as np\n",
    "from sklearn.model_selection import train_test_split\n",
    "from sklearn.svm import SVC\n",
    "from sklearn.metrics import accuracy_score, precision_score, recall_score, f1_score, roc_auc_score, confusion_matrix"
   ]
  },
  {
   "cell_type": "code",
   "execution_count": 11,
   "id": "07d64904",
   "metadata": {},
   "outputs": [],
   "source": [
    "# Load data\n",
    "ECGdataset = pickle.load(open('ECG5000_train.pickle', \"rb\"), encoding='latin1')\n",
    "ECGdataset_vld = pickle.load(open('ECG5000_validation.pickle', \"rb\"), encoding='latin1')"
   ]
  },
  {
   "cell_type": "code",
   "execution_count": 14,
   "id": "6d7d4289",
   "metadata": {},
   "outputs": [
    {
     "data": {
      "text/plain": [
       "(500, 141)"
      ]
     },
     "execution_count": 14,
     "metadata": {},
     "output_type": "execute_result"
    }
   ],
   "source": [
    "# Check data shape, the data shape we see here include the column of label\n",
    "# label: the 481-th column is disease, the 482-th is subject\n",
    "ECGdataset.shape"
   ]
  },
  {
   "cell_type": "code",
   "execution_count": 15,
   "id": "8175cf07",
   "metadata": {},
   "outputs": [
    {
     "data": {
      "text/plain": [
       "(1500, 141)"
      ]
     },
     "execution_count": 15,
     "metadata": {},
     "output_type": "execute_result"
    }
   ],
   "source": [
    "ECGdataset_vld.shape"
   ]
  },
  {
   "cell_type": "code",
   "execution_count": 5,
   "id": "dce7c5a6",
   "metadata": {},
   "outputs": [
    {
     "data": {
      "text/plain": [
       "array([ 0.        , -0.11252183, -2.8272038 , -3.7738969 , -4.3497511 ,\n",
       "       -4.376041  , -3.4749863 , -2.1814082 , -1.8182865 , -1.2505219 ,\n",
       "       -0.47749208, -0.36380791, -0.49195659, -0.42185509, -0.30920086,\n",
       "       -0.4959387 , -0.34211867, -0.35533627, -0.36791303, -0.31650279,\n",
       "       -0.41237405, -0.47167181, -0.41345783, -0.36461703, -0.44929829,\n",
       "       -0.47141866, -0.42477658, -0.46251673, -0.55247236, -0.47537519,\n",
       "       -0.6942    , -0.7018681 , -0.59381178, -0.66068415, -0.71383066,\n",
       "       -0.76980688, -0.67228161, -0.65367605, -0.63940562, -0.55930228,\n",
       "       -0.59167032, -0.49322332, -0.46305183, -0.30164382, -0.23273401,\n",
       "       -0.12505488, -0.15394314, -0.0243574 , -0.06560876,  0.03499926,\n",
       "        0.06193522,  0.07119542,  0.12392505,  0.10312371,  0.22522849,\n",
       "        0.12868305,  0.30248315,  0.25727621,  0.19635161,  0.17938297,\n",
       "        0.24472863,  0.34121687,  0.32820441,  0.40604169,  0.44660507,\n",
       "        0.42406823,  0.48151204,  0.4778438 ,  0.62408259,  0.57458456,\n",
       "        0.59801319,  0.5645919 ,  0.607979  ,  0.62063457,  0.65625291,\n",
       "        0.68474806,  0.69427284,  0.66558377,  0.57579577,  0.63813479,\n",
       "        0.61491695,  0.56908343,  0.46857572,  0.44281777,  0.46827436,\n",
       "        0.43249295,  0.40795792,  0.41862256,  0.36253075,  0.41095901,\n",
       "        0.47166633,  0.37216676,  0.33787543,  0.22140511,  0.27399747,\n",
       "        0.29866408,  0.26356357,  0.34256352,  0.41950529,  0.58660736,\n",
       "        0.86062387,  1.1733446 ,  1.2581791 ,  1.4337887 ,  1.7005334 ,\n",
       "        1.9990431 ,  2.1253411 ,  1.9932907 ,  1.9322463 ,  1.7974367 ,\n",
       "        1.5222839 ,  1.2511679 ,  0.99873034,  0.48372242,  0.02313229,\n",
       "       -0.19491383, -0.22091729, -0.24373668, -0.25469462, -0.29113555,\n",
       "       -0.25649034, -0.22787425, -0.32242276, -0.28928586, -0.31816951,\n",
       "       -0.36365359, -0.39345584, -0.26641886, -0.25682316, -0.28869399,\n",
       "       -0.16233755,  0.16034772,  0.79216787,  0.93354122,  0.79695779,\n",
       "        0.57862066,  0.2577399 ,  0.22807718,  0.12343082,  0.92528624,\n",
       "        0.19313742])"
      ]
     },
     "execution_count": 5,
     "metadata": {},
     "output_type": "execute_result"
    }
   ],
   "source": [
    "# Get the first sample\n",
    "first_sample = ECGdataset[0]\n",
    "first_sample"
   ]
  },
  {
   "cell_type": "code",
   "execution_count": 16,
   "id": "fca83783",
   "metadata": {},
   "outputs": [
    {
     "data": {
      "text/plain": [
       "array([ 0.        , -1.3242745 , -3.6723961 , -4.1716125 , -4.5632221 ,\n",
       "       -4.0538237 , -3.1037194 , -1.6991778 , -1.1161376 , -0.68317584,\n",
       "       -0.02901141, -0.05580227, -0.06247505, -0.11010978, -0.15645597,\n",
       "       -0.14372992, -0.05558063, -0.02466969,  0.00797913, -0.03357834,\n",
       "       -0.1846935 , -0.07727371, -0.08264181, -0.24038579, -0.19008172,\n",
       "       -0.25721819, -0.41003761, -0.41865351, -0.53558693, -0.70633588,\n",
       "       -0.64262963, -0.6742704 , -0.62985484, -0.6379674 , -0.60872515,\n",
       "       -0.68855521, -0.65216532, -0.60741875, -0.65387262, -0.66974751,\n",
       "       -0.6008334 , -0.49365297, -0.39010577, -0.30880901, -0.32130658,\n",
       "       -0.28995523, -0.11540781, -0.11719003,  0.07268299,  0.07843432,\n",
       "        0.08500056,  0.12704572,  0.07551659,  0.0626399 ,  0.05916467,\n",
       "        0.03398421,  0.088038  ,  0.04669634,  0.08199403,  0.13022098,\n",
       "        0.12406743,  0.23054459,  0.18573195,  0.21701409,  0.24325301,\n",
       "        0.17235954,  0.230787  ,  0.38668977,  0.43363096,  0.59328605,\n",
       "        0.52508771,  0.55938342,  0.61887519,  0.57844875,  0.71255584,\n",
       "        0.67813366,  0.69596314,  0.61417814,  0.68664717,  0.66139579,\n",
       "        0.75584   ,  0.70691174,  0.59746533,  0.5756369 ,  0.57608239,\n",
       "        0.60117269,  0.60622235,  0.50571316,  0.49982799,  0.51726358,\n",
       "        0.45258628,  0.45957028,  0.42441436,  0.46360171,  0.39472736,\n",
       "        0.40134384,  0.62501599,  0.57773459,  0.7756173 ,  0.9267333 ,\n",
       "        1.0111895 ,  1.3030027 ,  1.5986111 ,  1.9109506 ,  1.9562534 ,\n",
       "        1.88286   ,  1.8140805 ,  1.4712278 ,  1.396859  ,  1.1002141 ,\n",
       "        0.83998162,  0.53670026,  0.12723809, -0.179819  , -0.46633781,\n",
       "       -0.51825774, -0.40827505, -0.40237278, -0.37562597, -0.31794655,\n",
       "       -0.34177948, -0.29841255, -0.32589658, -0.32187825, -0.36579757,\n",
       "       -0.31853042, -0.30608536, -0.32407084, -0.30342572, -0.0219803 ,\n",
       "        0.53956273,  0.70091754,  0.69648807,  0.75881825,  0.82230555,\n",
       "        0.72672484,  0.51144976,  0.62748647,  0.70195371,  0.27607057,\n",
       "       -1.9910374 ])"
      ]
     },
     "execution_count": 16,
     "metadata": {},
     "output_type": "execute_result"
    }
   ],
   "source": [
    "# Get the first sample\n",
    "first_sample = ECGdataset_vld[0]\n",
    "first_sample"
   ]
  },
  {
   "cell_type": "code",
   "execution_count": 17,
   "id": "1f280a90",
   "metadata": {},
   "outputs": [
    {
     "data": {
      "image/png": "[encoded data removed]",
      "text/plain": [
       "<Figure size 432x288 with 1 Axes>"
      ]
     },
     "metadata": {
      "needs_background": "light"
     },
     "output_type": "display_data"
    }
   ],
   "source": [
    "# Visualize the first sample's feature\n",
    "fig, ax = plt.subplots()\n",
    "ax.plot(first_sample[:480])\n",
    "\n",
    "plt.show()"
   ]
  },
  {
   "cell_type": "code",
   "execution_count": null,
   "id": "9c7bdbee",
   "metadata": {},
   "outputs": [
    {
     "data": {
      "text/plain": [
       "-0.83228111"
      ]
     },
     "execution_count": 31,
     "metadata": {},
     "output_type": "execute_result"
    }
   ],
   "source": [
    "# Get the value of the first feature (the 2nd column, the 1st column is the label) of the 10-th sample\n",
    "sample_10th_feature = ECGdataset[9][:480]\n",
    "sample_10th_feature[1]"
   ]
  },
  {
   "cell_type": "code",
   "execution_count": 32,
   "id": "2a5601f8",
   "metadata": {},
   "outputs": [
    {
     "data": {
      "text/plain": [
       "0.047041612"
      ]
     },
     "execution_count": 32,
     "metadata": {},
     "output_type": "execute_result"
    }
   ],
   "source": [
    "# Get the value of the first feature (the 2nd column, the 1st column is the label) of the 10-th sample\n",
    "sample_10th_feature = ECGdataset_vld[9][:480]\n",
    "sample_10th_feature[1]"
   ]
  },
  {
   "cell_type": "code",
   "execution_count": 34,
   "id": "0f57cdda",
   "metadata": {},
   "outputs": [
    {
     "name": "stdout",
     "output_type": "stream",
     "text": [
      "Feature shape: (500, 139), Label shape: (500, 1)\n"
     ]
    }
   ],
   "source": [
    "# Here we split the features and labels for training data to facilitate the next step\n",
    "ecg_trn_feature = ECGdataset[:, 1:140]\n",
    "\n",
    "# We only take the pattern label (1st column) in this example\n",
    "ecg_trn_label = ECGdataset[:, 0:1]\n",
    "\n",
    "print(f\"Feature shape: {ecg_trn_feature.shape}, Label shape: {ecg_trn_label.shape}\")"
   ]
  },
  {
   "cell_type": "code",
   "execution_count": 35,
   "id": "aa837a72",
   "metadata": {},
   "outputs": [
    {
     "name": "stdout",
     "output_type": "stream",
     "text": [
      "Feature shape: (1500, 139), Label shape: (1500, 1)\n"
     ]
    }
   ],
   "source": [
    "# Here we split the features and labels for validation data to facilitate the next step\n",
    "ecg_vld_feature = ECGdataset_vld[:, 1:140]\n",
    "\n",
    "# We only take the pattern label (1st column) in this example\n",
    "ecg_vld_label = ECGdataset_vld[:, 0:1]\n",
    "\n",
    "print(f\"Feature shape: {ecg_vld_feature.shape}, Label shape: {ecg_vld_label.shape}\")"
   ]
  },
  {
   "cell_type": "markdown",
   "id": "8ybNyRGN8WhB",
   "metadata": {
    "id": "8ybNyRGN8WhB"
   },
   "source": [
    "## TODO 2 Preprocessing (4 points)\n",
    "\n",
    "1. Normalize each sample (features) following the time-dimention, using the *sklearn.preprocessing.StandardScaler* function. Please remember to install and import the *sklearn* library.\n",
    "\n",
    "2. Note, as the training and validation sets are already splitted into two different files, you need to do the preprocessing for them independently (seperately)."
   ]
  },
  {
   "cell_type": "code",
   "execution_count": 36,
   "id": "52fa4a22",
   "metadata": {
    "id": "52fa4a22"
   },
   "outputs": [],
   "source": [
    "scaler = StandardScaler()\n",
    "ecg_trn_data_normalized = scaler.fit_transform(ecg_trn_feature)\n",
    "ecg_vld_data_normalized = scaler.fit_transform(ecg_vld_feature)"
   ]
  },
  {
   "cell_type": "code",
   "execution_count": 37,
   "id": "xeUlQkDGU8NI",
   "metadata": {
    "id": "xeUlQkDGU8NI"
   },
   "outputs": [
    {
     "data": {
      "image/png": "[encoded data removed]",
      "text/plain": [
       "<Figure size 432x288 with 1 Axes>"
      ]
     },
     "metadata": {
      "needs_background": "light"
     },
     "output_type": "display_data"
    }
   ],
   "source": [
    "# Visualize the first sample's feature again\n",
    "first_sample_feature = ecg_trn_data_normalized[0]\n",
    "\n",
    "fig, ax = plt.subplots()\n",
    "ax.plot(first_sample_feature)\n",
    "\n",
    "plt.show()"
   ]
  },
  {
   "cell_type": "markdown",
   "id": "TsbfP8UX8Xwz",
   "metadata": {
    "id": "TsbfP8UX8Xwz"
   },
   "source": [
    "## TODO 3 Data Splitting (Skip in this lab)\n",
    "\n",
    "1. Generally, you need to randomly split the dataset into two parts and name them as *Training_set* and *Validation_set* .\n",
    "\n",
    "However, as I already split the data for you. **You can skip this TODO**."
   ]
  },
  {
   "cell_type": "markdown",
   "id": "_xC5m2BY8Y-r",
   "metadata": {
    "id": "_xC5m2BY8Y-r"
   },
   "source": [
    "## TODO 4 Train a KNN classifier (4 points)\n",
    "\n",
    "1. Use Sklearn library, train a KNN classifier (set K equals to *5*), feed the *Training_set* to the classifier."
   ]
  },
  {
   "cell_type": "code",
   "execution_count": 38,
   "id": "LMJfhjz28ZLI",
   "metadata": {
    "id": "LMJfhjz28ZLI"
   },
   "outputs": [],
   "source": [
    "y_train_flat = ecg_trn_label.reshape(-1)\n",
    "y_val_flat = ecg_vld_label.reshape(-1)"
   ]
  },
  {
   "cell_type": "code",
   "execution_count": 46,
   "id": "3cb7d797",
   "metadata": {},
   "outputs": [
    {
     "data": {
      "text/plain": [
       "SVC(C=5, probability=True)"
      ]
     },
     "execution_count": 46,
     "metadata": {},
     "output_type": "execute_result"
    }
   ],
   "source": [
    "from sklearn.neighbors import KNeighborsClassifier\n",
    "# Create an SVM classifier\n",
    "#model_s = SVC(kernel='linear', C=0.04, probability=True, decision_function_shape='ovr')\n",
    "model_s = SVC(kernel='rbf', C=5, probability=True, gamma='scale', decision_function_shape='ovr')\n",
    "\n",
    "# Train the model of choice\n",
    "model_s.fit(ecg_trn_data_normalized, y_train_flat)"
   ]
  },
  {
   "cell_type": "markdown",
   "id": "54xLvhSl8ZRn",
   "metadata": {
    "id": "54xLvhSl8ZRn"
   },
   "source": [
    "## TODO 5 Validate the classifier (8 points)\n",
    "\n",
    "\n",
    "1. Use the trained classifier to predict the classes of the *Validation_set* .\n",
    "\n",
    "2. Print out the Accuracy, Precision, Recall, F1 score, AUROC, confusion matrix. For the matrix (except confusion matrix),keep 4 digits (such as 0.9856).\n",
    "\n",
    "3. Create a list, named *model_performance_knn* with 5 elements, which are Accuracy, Precision, Recall, F1 score, AUROC, respectively. Create a numpy array named *cf_matrix* to store the confusion matrix.\n",
    "\n"
   ]
  },
  {
   "cell_type": "code",
   "execution_count": 47,
   "id": "y0hMpWV68ZXX",
   "metadata": {
    "id": "y0hMpWV68ZXX"
   },
   "outputs": [],
   "source": [
    "# Make predictions on the Validation_set\n",
    "y_pred = model_s.predict(ecg_vld_data_normalized)\n",
    "y_prob = model_s.predict_proba(ecg_vld_data_normalized)"
   ]
  },
  {
   "cell_type": "code",
   "execution_count": 48,
   "id": "2d310f1e",
   "metadata": {},
   "outputs": [],
   "source": [
    "# Calculate metrics\n",
    "accuracy = accuracy_score(y_val_flat, y_pred)\n",
    "precision = precision_score(y_val_flat, y_pred, average='macro')\n",
    "recall = recall_score(y_val_flat, y_pred, average='macro')\n",
    "f1 = f1_score(y_val_flat, y_pred, average='macro')\n",
    "auroc = roc_auc_score(y_val_flat, y_prob, average='macro', multi_class='ovr')\n",
    "conf_matrix = confusion_matrix(y_val_flat, y_pred)"
   ]
  },
  {
   "cell_type": "code",
   "execution_count": 49,
   "id": "0394e193",
   "metadata": {},
   "outputs": [
    {
     "name": "stdout",
     "output_type": "stream",
     "text": [
      "Accuracy: 0.9227\n",
      "Precision (macro): 0.8920\n",
      "Recall (macro): 0.5657\n",
      "F1 Score (macro): 0.6252\n",
      "AUROC (macro, ovr): 0.9449\n",
      "Confusion Matrix:\n",
      "[[781   0   0   0   0]\n",
      " [ 26 554   2   8   0]\n",
      " [ 15  10  16   2   0]\n",
      " [ 10  32   1  32   0]\n",
      " [  8   2   0   0   1]]\n"
     ]
    }
   ],
   "source": [
    "print(\"Accuracy: {:.4f}\".format(accuracy))\n",
    "print(\"Precision (macro): {:.4f}\".format(precision))\n",
    "print(\"Recall (macro): {:.4f}\".format(recall))\n",
    "print(\"F1 Score (macro): {:.4f}\".format(f1))\n",
    "print(\"AUROC (macro, ovr): {:.4f}\".format(auroc))\n",
    "print(\"Confusion Matrix:\")\n",
    "print(conf_matrix)"
   ]
  },
  {
   "cell_type": "code",
   "execution_count": 50,
   "id": "ccf86ed3",
   "metadata": {},
   "outputs": [
    {
     "data": {
      "text/plain": [
       "[0.9227, 0.892, 0.5657, 0.6252, 0.9449]"
      ]
     },
     "execution_count": 50,
     "metadata": {},
     "output_type": "execute_result"
    }
   ],
   "source": [
    "# Create a list, named model_performance_yourclassifier with 5 elements,\n",
    "# which are Accuracy, Precision, Recall, F1 score, AUROC, respectively\n",
    "\n",
    "model_performance_svm = [accuracy, precision, recall, f1, auroc]\n",
    "# keep 4 digits\n",
    "model_performance_svm = [round(item, 4) for item in model_performance_svm]\n",
    "model_performance_svm"
   ]
  },
  {
   "cell_type": "code",
   "execution_count": 51,
   "id": "332ca32f",
   "metadata": {},
   "outputs": [],
   "source": [
    "# Create a numpy array named cf_matrix to store the confusion matrix\n",
    "cf_matrix = conf_matrix"
   ]
  },
  {
   "cell_type": "markdown",
   "id": "bhrwzFxr8ZdQ",
   "metadata": {
    "id": "bhrwzFxr8ZdQ"
   },
   "source": [
    "## TODO 6 Visulize the confusion matrix (2 points)\n",
    "\n",
    "1. Use *seaborn* library to visualize the confusion matrix using *heatmap*. The labels should contain the counts and percentage.\n",
    "\n",
    "2. FYI, you may check how to use seaborn to draw heatmap at https://medium.com/@dtuk81/confusion-matrix-visualization-fc31e3f30fea"
   ]
  },
  {
   "cell_type": "code",
   "execution_count": 52,
   "id": "c54607fd",
   "metadata": {
    "id": "c54607fd"
   },
   "outputs": [
    {
     "data": {
      "text/plain": [
       "Text(45.722222222222214, 0.5, 'True Labels')"
      ]
     },
     "execution_count": 52,
     "metadata": {},
     "output_type": "execute_result"
    },
    {
     "data": {
      "image/png": "[encoded data removed]",
      "text/plain": [
       "<Figure size 600x400 with 2 Axes>"
      ]
     },
     "metadata": {
      "needs_background": "light"
     },
     "output_type": "display_data"
    }
   ],
   "source": [
    "import seaborn as sns\n",
    "\n",
    "plt.figure(dpi=100)\n",
    "\n",
    "group_counts = [\"{0:0.0f}\".format(value) for value in cf_matrix.flatten()]\n",
    "group_percentages = [\"{0:.2%}\".format(value) for value in cf_matrix.flatten()/np.sum(cf_matrix)]\n",
    "labels = [f\"{v1}\\n{v2}\" for v1, v2, in zip(group_counts,group_percentages)]\n",
    "labels = np.asarray(labels).reshape(5,5)\n",
    "sns.heatmap(cf_matrix, annot=labels, fmt='', cmap='Blues')\n",
    "\n",
    "plt.xlabel('Predicted Labels')\n",
    "plt.ylabel('True Labels')"
   ]
  }
 ],
 "metadata": {
  "colab": {
   "provenance": [],
   "toc_visible": true
  },
  "kernelspec": {
   "display_name": "base",
   "language": "python",
   "name": "python3"
  },
  "language_info": {
   "codemirror_mode": {
    "name": "ipython",
    "version": 3
   },
   "file_extension": ".py",
   "mimetype": "text/x-python",
   "name": "python",
   "nbconvert_exporter": "python",
   "pygments_lexer": "ipython3",
   "version": "3.7.3"
  },
  "toc": {
   "base_numbering": 1,
   "nav_menu": {},
   "number_sections": true,
   "sideBar": true,
   "skip_h1_title": false,
   "title_cell": "Table of Contents",
   "title_sidebar": "Contents",
   "toc_cell": false,
   "toc_position": {},
   "toc_section_display": true,
   "toc_window_display": false
  }
 },
 "nbformat": 4,
 "nbformat_minor": 5
}
